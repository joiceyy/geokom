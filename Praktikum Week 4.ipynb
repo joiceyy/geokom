{
 "cells": [
  {
   "cell_type": "code",
   "execution_count": 2,
   "metadata": {},
   "outputs": [],
   "source": [
    "gr = 30\n",
    "grmin = 20\n",
    "grmax = 80\n",
    "vshale = (gr - grmin)/ (grmax - grmin)"
   ]
  },
  {
   "cell_type": "code",
   "execution_count": 1,
   "metadata": {},
   "outputs": [],
   "source": [
    "def world ():\n",
    "    print ('im alive')\n",
    "    "
   ]
  },
  {
   "cell_type": "code",
   "execution_count": 10,
   "metadata": {},
   "outputs": [],
   "source": [
    "def namadia (n, m):\n",
    "    print ('namanya adalah' ,n, 'dan dia suka', m)"
   ]
  },
  {
   "cell_type": "code",
   "execution_count": 11,
   "metadata": {},
   "outputs": [
    {
     "name": "stdout",
     "output_type": "stream",
     "text": [
      "namanya adalah jola dan dia suka yuyu\n"
     ]
    }
   ],
   "source": [
    "namadia ('jola', 'yuyu')"
   ]
  },
  {
   "cell_type": "code",
   "execution_count": 14,
   "metadata": {},
   "outputs": [],
   "source": [
    "# memasukkan nilai default\n",
    "def apa(n = 'harimau'):\n",
    "    print('ini merupakan', n)"
   ]
  },
  {
   "cell_type": "code",
   "execution_count": 15,
   "metadata": {},
   "outputs": [
    {
     "name": "stdout",
     "output_type": "stream",
     "text": [
      "ini merupakan apa ya?\n"
     ]
    }
   ],
   "source": [
    "apa ('apa ya?')"
   ]
  },
  {
   "cell_type": "code",
   "execution_count": 18,
   "metadata": {},
   "outputs": [],
   "source": [
    "# soal uts nanti\n",
    "def pangkat(a, b):\n",
    "    c = a**b\n",
    "    print('-----')\n",
    "    return c"
   ]
  },
  {
   "cell_type": "code",
   "execution_count": 19,
   "metadata": {},
   "outputs": [
    {
     "name": "stdout",
     "output_type": "stream",
     "text": [
      "-----\n"
     ]
    },
    {
     "data": {
      "text/plain": [
       "128"
      ]
     },
     "execution_count": 19,
     "metadata": {},
     "output_type": "execute_result"
    }
   ],
   "source": [
    "pangkat(2,7)"
   ]
  },
  {
   "cell_type": "code",
   "execution_count": 22,
   "metadata": {},
   "outputs": [],
   "source": [
    "def tambah(a, b):\n",
    "    c = a + b\n",
    "    print(c)"
   ]
  },
  {
   "cell_type": "code",
   "execution_count": 23,
   "metadata": {},
   "outputs": [
    {
     "name": "stdout",
     "output_type": "stream",
     "text": [
      "3\n"
     ]
    }
   ],
   "source": [
    "tambah (1,2)"
   ]
  },
  {
   "cell_type": "code",
   "execution_count": 24,
   "metadata": {},
   "outputs": [],
   "source": [
    "def tambah(a, b):\n",
    "    c = a + b\n",
    "    return c"
   ]
  },
  {
   "cell_type": "code",
   "execution_count": 25,
   "metadata": {},
   "outputs": [
    {
     "data": {
      "text/plain": [
       "3"
      ]
     },
     "execution_count": 25,
     "metadata": {},
     "output_type": "execute_result"
    }
   ],
   "source": [
    "tambah (1,2)"
   ]
  },
  {
   "cell_type": "code",
   "execution_count": 26,
   "metadata": {},
   "outputs": [
    {
     "name": "stdout",
     "output_type": "stream",
     "text": [
      "-----\n"
     ]
    }
   ],
   "source": [
    "xy = pangkat(2,7)"
   ]
  },
  {
   "cell_type": "code",
   "execution_count": 27,
   "metadata": {},
   "outputs": [
    {
     "data": {
      "text/plain": [
       "128"
      ]
     },
     "execution_count": 27,
     "metadata": {},
     "output_type": "execute_result"
    }
   ],
   "source": [
    "xy"
   ]
  },
  {
   "cell_type": "code",
   "execution_count": 28,
   "metadata": {},
   "outputs": [
    {
     "name": "stdout",
     "output_type": "stream",
     "text": [
      "-----\n",
      "1\n",
      "-----\n",
      "25\n",
      "-----\n",
      "49\n",
      "-----\n",
      "36\n",
      "-----\n",
      "16\n"
     ]
    }
   ],
   "source": [
    "nomor = [1,5,7,6,4]\n",
    "\n",
    "for i in nomor :\n",
    "    print (pangkat(i,2))"
   ]
  },
  {
   "cell_type": "code",
   "execution_count": 36,
   "metadata": {},
   "outputs": [],
   "source": [
    "# SOAL UTS\n",
    "# BUATLAH FUNCTION UNTUK MENGHITUNG LUAS LINGKARAN\n",
    "def calc_circle_area(r):\n",
    "    l = 3.14*r**2\n",
    "    return(l)\n"
   ]
  },
  {
   "cell_type": "code",
   "execution_count": 37,
   "metadata": {},
   "outputs": [
    {
     "data": {
      "text/plain": [
       "12.56"
      ]
     },
     "execution_count": 37,
     "metadata": {},
     "output_type": "execute_result"
    }
   ],
   "source": [
    "calc_circle_area(2)"
   ]
  },
  {
   "cell_type": "code",
   "execution_count": 49,
   "metadata": {},
   "outputs": [
    {
     "name": "stdout",
     "output_type": "stream",
     "text": [
      "0.08823529411764706\n"
     ]
    }
   ],
   "source": [
    "# 2. buatlah fanction untuk menghitung vshale\n",
    "gr = 25\n",
    "grmin = 19\n",
    "grmax = 87\n",
    "vshale = (gr - grmin)/ (grmax - grmin)\n",
    "print(vshale)"
   ]
  },
  {
   "cell_type": "code",
   "execution_count": 51,
   "metadata": {},
   "outputs": [],
   "source": [
    "def vshale (gr, grmin, grmax):\n",
    "    x = (gr - grmin)/(grmax - grmin)\n",
    "    return x"
   ]
  },
  {
   "cell_type": "code",
   "execution_count": 52,
   "metadata": {},
   "outputs": [
    {
     "data": {
      "text/plain": [
       "0.1044776119402985"
      ]
     },
     "execution_count": 52,
     "metadata": {},
     "output_type": "execute_result"
    }
   ],
   "source": [
    "vshale (27, 20, 87)"
   ]
  },
  {
   "cell_type": "code",
   "execution_count": 53,
   "metadata": {},
   "outputs": [],
   "source": [
    "# 3. buatlah sebuah program yang dapat menghitunng nilai gr dari list berupa gr =[20,25,34,91,64,57,92,64,15,85,34,52,21,62] menggunakan function dan itiration (loop) beserta nilai dari gmin = 10 dan gmax= 100\n",
    "def daftar (gr, grmin, grmax):\n",
    "    vshale = (gr - grmin)/ (grmax - grmin)\n",
    "    return vshale"
   ]
  },
  {
   "cell_type": "code",
   "execution_count": 56,
   "metadata": {},
   "outputs": [
    {
     "name": "stdout",
     "output_type": "stream",
     "text": [
      "0.1111111111111111\n",
      "0.16666666666666666\n",
      "0.26666666666666666\n",
      "0.9\n",
      "0.6\n",
      "0.5222222222222223\n",
      "0.9111111111111111\n",
      "0.6\n",
      "0.05555555555555555\n",
      "0.8333333333333334\n",
      "0.26666666666666666\n",
      "0.4666666666666667\n",
      "0.12222222222222222\n",
      "0.5777777777777777\n"
     ]
    }
   ],
   "source": [
    "gr = [20,25,34,91,64,57,92,64,15,85,34,52,21,62]\n",
    "\n",
    "for i in gr :\n",
    "    print(daftar(i,10,100))"
   ]
  },
  {
   "cell_type": "code",
   "execution_count": null,
   "metadata": {},
   "outputs": [],
   "source": []
  }
 ],
 "metadata": {
  "kernelspec": {
   "display_name": "Python 3",
   "language": "python",
   "name": "python3"
  },
  "language_info": {
   "codemirror_mode": {
    "name": "ipython",
    "version": 3
   },
   "file_extension": ".py",
   "mimetype": "text/x-python",
   "name": "python",
   "nbconvert_exporter": "python",
   "pygments_lexer": "ipython3",
   "version": "3.12.2"
  }
 },
 "nbformat": 4,
 "nbformat_minor": 2
}
